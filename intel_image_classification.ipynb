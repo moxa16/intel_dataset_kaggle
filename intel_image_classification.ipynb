{
  "nbformat": 4,
  "nbformat_minor": 0,
  "metadata": {
    "colab": {
      "name": "intel_image_classification.ipynb",
      "version": "0.3.2",
      "provenance": [],
      "toc_visible": true,
      "include_colab_link": true
    },
    "kernelspec": {
      "name": "python3",
      "display_name": "Python 3"
    },
    "accelerator": "GPU"
  },
  "cells": [
    {
      "cell_type": "markdown",
      "metadata": {
        "id": "view-in-github",
        "colab_type": "text"
      },
      "source": [
        "<a href=\"https://colab.research.google.com/github/moxa16/intel_dataset_kaggle/blob/master/intel_image_classification.ipynb\" target=\"_parent\"><img src=\"https://colab.research.google.com/assets/colab-badge.svg\" alt=\"Open In Colab\"/></a>"
      ]
    },
    {
      "cell_type": "markdown",
      "metadata": {
        "id": "72xaMbpZWqUe",
        "colab_type": "text"
      },
      "source": [
        "# notes"
      ]
    },
    {
      "cell_type": "markdown",
      "metadata": {
        "id": "7fukMxX6cK7_",
        "colab_type": "text"
      },
      "source": [
        "## key points google colab"
      ]
    },
    {
      "cell_type": "markdown",
      "metadata": {
        "id": "uF1pQxzQcTW8",
        "colab_type": "text"
      },
      "source": [
        "- '!' -> exclamation mark prepended executes linux bash  cmds \n",
        "-  By default most of the packages associated with ml are pre installed in google colab\n",
        "- google colab free gpu , by google, saved auto on gdrive"
      ]
    },
    {
      "cell_type": "markdown",
      "metadata": {
        "id": "tFeVzadwcPgR",
        "colab_type": "text"
      },
      "source": [
        "## key points ML"
      ]
    },
    {
      "cell_type": "markdown",
      "metadata": {
        "id": "m5utfGsicbeo",
        "colab_type": "text"
      },
      "source": [
        "- ML is an optimization problem - Finding the global minima (minimum loss) on an error surface # don't work about the keywords, will let you know."
      ]
    },
    {
      "cell_type": "markdown",
      "metadata": {
        "id": "zxVfPkxUhsQO",
        "colab_type": "text"
      },
      "source": [
        "## key point about keras"
      ]
    },
    {
      "cell_type": "markdown",
      "metadata": {
        "id": "BbQd5s3Shybb",
        "colab_type": "text"
      },
      "source": [
        "There are many frameworks available for ML - why ? for making it easy the execution of stuffs like calculating gradients, loss, optimization function etc. Examples - keras, tensorflow, mxnet, lua torch, pytorch, onnx, caffe, chainer, scikit learn etc...\n",
        "\n",
        "- Keras is built on top of TF (tensorflow)\n",
        "- Keras is used for rapid development + (positive)\n",
        "- Keras has less felexibility than TF - (negative)\n",
        "- keras has backends meaning it s built on something that does the computations of ML (as mentioned in in point 1 )\n",
        "- keras most popularly used with backend TF, another example is Theano"
      ]
    },
    {
      "cell_type": "code",
      "metadata": {
        "id": "89nRnlsIhrlQ",
        "colab_type": "code",
        "colab": {}
      },
      "source": [
        ""
      ],
      "execution_count": 0,
      "outputs": []
    },
    {
      "cell_type": "markdown",
      "metadata": {
        "id": "2w1pkLwPWsu3",
        "colab_type": "text"
      },
      "source": [
        "okay letss try a bottom down approach\n",
        "\n",
        "''#'' - means - comments \n",
        "\n",
        "**DAY 1 simple application of ml**\n",
        "\n",
        "-\tNeural Nets\n",
        "there are many types of algos in ML, we will go with neural nets the most popular one first. with progression you will understand which algo to use with the right type of data. cool ?yes\n",
        "- examination of the application.\n",
        "\n",
        "\n",
        "\n"
      ]
    },
    {
      "cell_type": "markdown",
      "metadata": {
        "id": "MyLyHouIXcVr",
        "colab_type": "text"
      },
      "source": [
        "Lets start with image classification \n",
        "----------------------------------------------------------\n",
        "\n",
        "Kaggle download data via api\n",
        "- step 1 : download the api token from your account \n",
        "- step 2 : copy the api download cmd from dataset to work on\n",
        "- step 3 : write the download cmd in google colab\n",
        "- - 3.1 : install kaggle package via pip , -U stands for user, -q stands for quiet...meaning installation will be run in background\n",
        "\n",
        "- Running on google colab gpu \n",
        "- Training a keras model \n",
        "\n"
      ]
    },
    {
      "cell_type": "markdown",
      "metadata": {
        "id": "7RLBTIAzTnhZ",
        "colab_type": "text"
      },
      "source": [
        "# set up "
      ]
    },
    {
      "cell_type": "markdown",
      "metadata": {
        "id": "V3Iwu_v0WYTq",
        "colab_type": "text"
      },
      "source": [
        "look above right left connected to ram 13 gb but not gpu so we need to change that\n",
        "\n"
      ]
    },
    {
      "cell_type": "code",
      "metadata": {
        "id": "FN3R8XdOV8EJ",
        "colab_type": "code",
        "colab": {}
      },
      "source": [
        "! pip install -U -q kaggle"
      ],
      "execution_count": 0,
      "outputs": []
    },
    {
      "cell_type": "code",
      "metadata": {
        "id": "uzYuSXHaUD0P",
        "colab_type": "code",
        "colab": {}
      },
      "source": [
        "!mkdir --p ~/.kaggle\n",
        "!echo '{\"username\":\"moxa1610\",\"key\":\"c4a18ced4ae4fc6b93d7ad18f529ffe3\"}' > ~/.kaggle/kaggle.json\n",
        "!chmod 600 ~/.kaggle/kaggle.json"
      ],
      "execution_count": 0,
      "outputs": []
    },
    {
      "cell_type": "code",
      "metadata": {
        "id": "-pxYu9MUUDa1",
        "colab_type": "code",
        "outputId": "7a593392-af87-4b3a-c166-20e5508f585a",
        "colab": {
          "base_uri": "https://localhost:8080/",
          "height": 68
        }
      },
      "source": [
        "!kaggle datasets download -d puneet6060/intel-image-classification"
      ],
      "execution_count": 0,
      "outputs": [
        {
          "output_type": "stream",
          "text": [
            "Downloading intel-image-classification.zip to /content\n",
            " 98% 338M/344M [00:03<00:00, 42.9MB/s]\n",
            "100% 344M/344M [00:04<00:00, 89.6MB/s]\n"
          ],
          "name": "stdout"
        }
      ]
    },
    {
      "cell_type": "code",
      "metadata": {
        "id": "-W97zEINYgPI",
        "colab_type": "code",
        "colab": {}
      },
      "source": [
        " !mkdir intel_data\n",
        " !unzip -q -d intel_data intel*.zip"
      ],
      "execution_count": 0,
      "outputs": []
    },
    {
      "cell_type": "code",
      "metadata": {
        "id": "Q6cGmd6kZDvC",
        "colab_type": "code",
        "colab": {}
      },
      "source": [
        "# the folder contains more zip files need to extract that\n",
        "!mkdir intel_data/train\n",
        "!mkdir intel_data/test\n",
        "!mkdir intel_data/pred\n",
        "\n",
        "!unzip -q -d intel_data/train intel_data/seg_train.zip\n",
        "!unzip -q -d intel_data/test intel_data/seg_test.zip\n",
        "!unzip -q -d intel_data/pred intel_data/seg_pred.zip\n"
      ],
      "execution_count": 0,
      "outputs": []
    },
    {
      "cell_type": "markdown",
      "metadata": {
        "id": "LqQI92aBadrD",
        "colab_type": "text"
      },
      "source": [
        "Now, dividing the process in three steps\n",
        "\n",
        "- Data processing : Visz, data count and all that stuff\n",
        "- Building a model in keras\n",
        "- Training a model and saving it"
      ]
    },
    {
      "cell_type": "markdown",
      "metadata": {
        "id": "6fin4NzPay_1",
        "colab_type": "text"
      },
      "source": [
        "# Data processing\n"
      ]
    },
    {
      "cell_type": "code",
      "metadata": {
        "id": "i4taBLOGaUpn",
        "colab_type": "code",
        "colab": {}
      },
      "source": [
        "# first we need to check what exactly is the data\n",
        "# okay since it is already split in train - test - validation format we need not split again\n",
        "# the dataset contains of satellite images of the classes - buildings - forest \n",
        "# lets viz it ...psst ! VIZ means visualization in datascience lingo \n",
        "\n",
        "\n",
        "# for vizing it we will use matplotlib \n",
        "\n",
        "import matplotlib.pyplot as plt\n",
        "import glob"
      ],
      "execution_count": 0,
      "outputs": []
    },
    {
      "cell_type": "code",
      "metadata": {
        "id": "cwJq6uA1dYV8",
        "colab_type": "code",
        "colab": {}
      },
      "source": [
        "train_path = 'intel_data/train/seg_train/*/*' # * - means all the files including in it \n",
        "test_path = 'intel_data/test/seg_test/*/*'\n",
        "\n",
        "train_files = glob.glob(train_path)\n",
        "test_files = glob.glob(test_path)"
      ],
      "execution_count": 0,
      "outputs": []
    },
    {
      "cell_type": "code",
      "metadata": {
        "id": "jw9k7jKzd0O_",
        "colab_type": "code",
        "outputId": "0f427a74-b908-450a-fa9c-b3aa82f5d84e",
        "colab": {
          "base_uri": "https://localhost:8080/",
          "height": 102
        }
      },
      "source": [
        "train_files[:5] # viewing first five elements in trainfiles list"
      ],
      "execution_count": 0,
      "outputs": [
        {
          "output_type": "execute_result",
          "data": {
            "text/plain": [
              "['intel_data/train/seg_train/mountain/2428.jpg',\n",
              " 'intel_data/train/seg_train/mountain/9045.jpg',\n",
              " 'intel_data/train/seg_train/mountain/17529.jpg',\n",
              " 'intel_data/train/seg_train/mountain/14804.jpg',\n",
              " 'intel_data/train/seg_train/mountain/16675.jpg']"
            ]
          },
          "metadata": {
            "tags": []
          },
          "execution_count": 8
        }
      ]
    },
    {
      "cell_type": "markdown",
      "metadata": {
        "id": "icLHKMg_eEA9",
        "colab_type": "text"
      },
      "source": [
        "what is glob ?\n",
        "\n",
        "glob is a package that helps in reading files from the disk on the fly....similar functions can be found in the os package called as os.walk(dir_path)"
      ]
    },
    {
      "cell_type": "code",
      "metadata": {
        "id": "BCEeeyLDd7V_",
        "colab_type": "code",
        "outputId": "289fd763-2364-45a6-f591-75b386c9dd64",
        "colab": {
          "base_uri": "https://localhost:8080/",
          "height": 102
        }
      },
      "source": [
        "test_files[:5]"
      ],
      "execution_count": 0,
      "outputs": [
        {
          "output_type": "execute_result",
          "data": {
            "text/plain": [
              "['intel_data/test/seg_test/mountain/22051.jpg',\n",
              " 'intel_data/test/seg_test/mountain/22124.jpg',\n",
              " 'intel_data/test/seg_test/mountain/20181.jpg',\n",
              " 'intel_data/test/seg_test/mountain/20435.jpg',\n",
              " 'intel_data/test/seg_test/mountain/20512.jpg']"
            ]
          },
          "metadata": {
            "tags": []
          },
          "execution_count": 9
        }
      ]
    },
    {
      "cell_type": "code",
      "metadata": {
        "id": "HMUBdFGMeerd",
        "colab_type": "code",
        "colab": {}
      },
      "source": [
        "# now to view them \n",
        "# lets shuffle them first\n",
        "\n",
        "import numpy as np\n"
      ],
      "execution_count": 0,
      "outputs": []
    },
    {
      "cell_type": "code",
      "metadata": {
        "id": "Uu0tZuPfeyDC",
        "colab_type": "code",
        "colab": {}
      },
      "source": [
        "np.random.seed(0) # setting the seed means telling the random number generator to remember from where the number was generated during this execution of experiment \n",
        "np.random.shuffle(train_files) # shuffles a list / array , returns nothing\n",
        "np.random.shuffle(test_files)"
      ],
      "execution_count": 0,
      "outputs": []
    },
    {
      "cell_type": "code",
      "metadata": {
        "id": "saLu9j_WfRKr",
        "colab_type": "code",
        "outputId": "e11cabfc-e336-4c5a-f8c6-7be3771b9cc5",
        "colab": {
          "base_uri": "https://localhost:8080/",
          "height": 102
        }
      },
      "source": [
        "train_files[:5]"
      ],
      "execution_count": 0,
      "outputs": [
        {
          "output_type": "execute_result",
          "data": {
            "text/plain": [
              "['intel_data/train/seg_train/glacier/11350.jpg',\n",
              " 'intel_data/train/seg_train/mountain/8365.jpg',\n",
              " 'intel_data/train/seg_train/forest/19110.jpg',\n",
              " 'intel_data/train/seg_train/forest/5754.jpg',\n",
              " 'intel_data/train/seg_train/sea/4433.jpg']"
            ]
          },
          "metadata": {
            "tags": []
          },
          "execution_count": 12
        }
      ]
    },
    {
      "cell_type": "markdown",
      "metadata": {
        "id": "81YDMT6FfczP",
        "colab_type": "text"
      },
      "source": [
        "why shuffle ? \n",
        "\n",
        "check the train_files[:5 ] done at the first time, lets see your obs skill ???\n",
        "\n",
        "image are from different folders nw "
      ]
    },
    {
      "cell_type": "code",
      "metadata": {
        "id": "L3ewkPUwfTA9",
        "colab_type": "code",
        "outputId": "73fab383-38b5-4972-f7c8-8afaab4fb7c3",
        "colab": {
          "base_uri": "https://localhost:8080/",
          "height": 398
        }
      },
      "source": [
        "# plotting the first 10 images from train  files\n",
        "\n",
        "for i in range(10):\n",
        "  plt.subplot(2, 5, i+1)\n",
        "  plt.imshow(plt.imread(train_files[i]))\n",
        "  print(train_files[i])\n",
        "plt.show()"
      ],
      "execution_count": 0,
      "outputs": [
        {
          "output_type": "stream",
          "text": [
            "intel_data/train/seg_train/glacier/11350.jpg\n",
            "intel_data/train/seg_train/mountain/8365.jpg\n",
            "intel_data/train/seg_train/forest/19110.jpg\n",
            "intel_data/train/seg_train/forest/5754.jpg\n",
            "intel_data/train/seg_train/sea/4433.jpg\n",
            "intel_data/train/seg_train/street/6180.jpg\n",
            "intel_data/train/seg_train/glacier/14325.jpg\n",
            "intel_data/train/seg_train/buildings/11796.jpg\n",
            "intel_data/train/seg_train/glacier/9322.jpg\n",
            "intel_data/train/seg_train/sea/15249.jpg\n"
          ],
          "name": "stdout"
        },
        {
          "output_type": "display_data",
          "data": {
            "image/png": "[encoded data removed]",
            "text/plain": [
              "<Figure size 432x288 with 10 Axes>"
            ]
          },
          "metadata": {
            "tags": []
          }
        }
      ]
    },
    {
      "cell_type": "code",
      "metadata": {
        "id": "ynwZhAIRgiBV",
        "colab_type": "code",
        "outputId": "7da5f3d1-9374-4758-dca3-67ba3b0ffdb5",
        "colab": {
          "base_uri": "https://localhost:8080/",
          "height": 34
        }
      },
      "source": [
        "# so these are the images in the dataset with respective classes (classes here are name of the folder indicating type of the image)\n",
        "\n",
        "# now we need to make a way to load the image directly from the disk with out storing the images in ram as gpu ram is expensive than disk space.\n",
        "\n",
        "# for that keras has a convenient class method\n",
        "\n",
        "# this type of method is called as online learning in practisce.\n",
        "\n",
        "\n",
        "import keras"
      ],
      "execution_count": 0,
      "outputs": [
        {
          "output_type": "stream",
          "text": [
            "Using TensorFlow backend.\n"
          ],
          "name": "stderr"
        }
      ]
    },
    {
      "cell_type": "code",
      "metadata": {
        "id": "xEY8H9SEhmAU",
        "colab_type": "code",
        "outputId": "16cc0f07-0e21-4e59-ad0d-a978751f53ce",
        "colab": {
          "base_uri": "https://localhost:8080/",
          "height": 34
        }
      },
      "source": [
        "# always refer to https://keras.io/ for class and methods implemented in keras\n",
        "\n",
        "\n",
        "# now thers is something called as data augmentation, it means do change the data (images) to input varitation example...flipping the image, blurring, rotation, shear, zoom, whitening and so on\n",
        "\n",
        "# augmentation helps in better learning of the model since variation adds noise and more patterns for the model to learn from.\n",
        "\n",
        "# but caution: augmentation should be used in cases where data is too low, if data is already noisy augmentation will make it worse, with experience you will know when exactly to use it.\n",
        "\n",
        "# there are two types of augmentation - qualitative and quantitative.manipulating image persception is qualitative as mentioned in the above function (shear, rotation etc), increasing the number is quantitative.\n",
        "\n",
        "\n",
        "# here we will look into qualitative\n",
        "\n",
        "# lets check the samples first\n",
        "\n",
        "len(train_files)"
      ],
      "execution_count": 0,
      "outputs": [
        {
          "output_type": "execute_result",
          "data": {
            "text/plain": [
              "14034"
            ]
          },
          "metadata": {
            "tags": []
          },
          "execution_count": 15
        }
      ]
    },
    {
      "cell_type": "code",
      "metadata": {
        "id": "E9u5PpKplH0Y",
        "colab_type": "code",
        "colab": {}
      },
      "source": [
        "# 14034 total images not bad.\n",
        "\n",
        "# there is a case called as imbalanced data, meaning every sample corresponding to each class is unequal (layman every folder building, glacier etc has unequal number of samples.)\n",
        "# imbalanced data causes model to learn the data more which has highest samples, therby leading to misclassification.\n",
        "\n",
        "# we will look into imbalanced data on some other day\n",
        "\n",
        "# now, creating a generator-  in general generator allow us to iterate through dataset in specific size of batches. such style is known as batch training\n",
        "\n",
        "# lets create a generator\n",
        "\n",
        "from keras.preprocessing.image import ImageDataGenerator"
      ],
      "execution_count": 0,
      "outputs": []
    },
    {
      "cell_type": "markdown",
      "metadata": {
        "id": "6KUdjV6zvwOa",
        "colab_type": "text"
      },
      "source": [
        "what exactly is your doubt here ask please\n",
        "\n",
        "1) why have you done data augmentation, as in, how will augmenting the data help to classify images?\n",
        "ans : gave live example\n",
        "2) what is the use of validation_aug object?\n",
        "ans:  to work on validation set, just rescaling it ok"
      ]
    },
    {
      "cell_type": "code",
      "metadata": {
        "id": "ihCELYm0pFjI",
        "colab_type": "code",
        "outputId": "0547b319-d796-4abe-eb55-735bd05827ab",
        "colab": {
          "base_uri": "https://localhost:8080/",
          "height": 51
        }
      },
      "source": [
        "# train augmentation generator object #this part\n",
        "train_aug = ImageDataGenerator(\n",
        "    rotation_range=45,\n",
        "    horizontal_flip=True,\n",
        "    zoom_range=0.2,\n",
        "    width_shift_range=0.3,\n",
        "    height_shift_range=0.3,\n",
        "    rescale=1./255\n",
        ")\n",
        "\n",
        "# validation augmentation generator object \n",
        "validation_aug = ImageDataGenerator(\n",
        "    rescale=1./255\n",
        ")\n",
        "\n",
        "# we generally apply augmentation to train set only\n",
        "\n",
        "# here we will use flow from directory method of the class object defined earlier.\n",
        "\n",
        "\n",
        "train_gen = train_aug.flow_from_directory(\n",
        "    'intel_data/train/seg_train',\n",
        "    target_size=(64, 64),\n",
        "    batch_size=128,\n",
        "    class_mode='categorical'\n",
        ")\n",
        "\n",
        "\n",
        "validation_gen = validation_aug.flow_from_directory(\n",
        "    'intel_data/test/seg_test',\n",
        "    target_size=(64, 64),\n",
        "    batch_size=128,\n",
        "    class_mode='categorical'\n",
        ")"
      ],
      "execution_count": 0,
      "outputs": [
        {
          "output_type": "stream",
          "text": [
            "Found 14034 images belonging to 6 classes.\n",
            "Found 3000 images belonging to 6 classes.\n"
          ],
          "name": "stdout"
        }
      ]
    },
    {
      "cell_type": "code",
      "metadata": {
        "id": "w75tFriOsmWD",
        "colab_type": "code",
        "outputId": "483dcb2e-18ee-47da-fc6c-7493488e8d87",
        "colab": {
          "base_uri": "https://localhost:8080/",
          "height": 34
        }
      },
      "source": [
        "# see it automatcally finds out the number of classes as per the folders \n",
        "train_gen.classes"
      ],
      "execution_count": 0,
      "outputs": [
        {
          "output_type": "execute_result",
          "data": {
            "text/plain": [
              "array([0, 0, 0, ..., 5, 5, 5], dtype=int32)"
            ]
          },
          "metadata": {
            "tags": []
          },
          "execution_count": 32
        }
      ]
    },
    {
      "cell_type": "code",
      "metadata": {
        "id": "BJwWs1RUsztc",
        "colab_type": "code",
        "colab": {}
      },
      "source": [
        "# {'buildings' -> 0, 'forest' -> 1, 'glacier' -> 2, 'mountain' -> 3, 'sea' -> 4, 'street' -> 5 }\n",
        "\n",
        "# will map the classes and store the dictionary\n",
        "\n",
        "tg_names = {'buildings': 0, 'forest' : 1, 'glacier' : 2, 'mountain' : 3, 'sea': 4, 'street': 5 }"
      ],
      "execution_count": 0,
      "outputs": []
    },
    {
      "cell_type": "markdown",
      "metadata": {
        "id": "IQgSf6YJtYyj",
        "colab_type": "text"
      },
      "source": [
        "# model "
      ]
    },
    {
      "cell_type": "markdown",
      "metadata": {
        "id": "IxnuusELtbXQ",
        "colab_type": "text"
      },
      "source": [
        "We will work on the following\n",
        "\n",
        "- custom CNN model\n",
        "- Transfer learning"
      ]
    },
    {
      "cell_type": "markdown",
      "metadata": {
        "id": "vo14s_HMtkcp",
        "colab_type": "text"
      },
      "source": [
        "## custom cnn model"
      ]
    },
    {
      "cell_type": "markdown",
      "metadata": {
        "id": "n7gIlcdBtoNZ",
        "colab_type": "text"
      },
      "source": [
        "CNN  are pretty famous for image classificaiton task. \n",
        "\n",
        "We need CNN for extracting the features (pixels of image that represents a particular area in the image. )\n",
        "\n",
        "Convolution means unfoldind, so imagine an image, imagine a particular region, lets say 3x3 box, zoom it and you will get a box from which many more times the images will be zoomed or unfolded..\n"
      ]
    },
    {
      "cell_type": "code",
      "metadata": {
        "id": "P9pnL-KptXZL",
        "colab_type": "code",
        "colab": {}
      },
      "source": [
        "# lets build a model\n",
        "\n",
        "# import all necesaary layers to build CNN from keras\n",
        "\n",
        "# i will explain what 1D and 2D is when we do the video call\n",
        "\n",
        "from keras.layers import Conv2D, Dense, Flatten, MaxPooling2D, Activation, Dropout, Input\n",
        "from keras.optimizers import Adam\n",
        "from keras.models import Model\n",
        " \n",
        "# you can build models in keras in two types : sequential and functional, meaning sequential is like stack of layers like stack of cards, functional is like directed acyclic graph\n",
        "# we will look into the functional type here \n",
        "def build_model():\n",
        "  \"\"\"Function to build the model\"\"\"\n",
        "  # first layer should be an input layer\n",
        "  input_ = Input(shape=(64, 64, 3), name=\"input_1\") # shape is telling the  layer to open its mouth in so much width that this much food it can take.\n",
        "  # every image is 3 dimensional, 3 at the end of (64 ,64, 3) says its 3 channels meaning 3 colors RGB. if grayscale (b/w) then it would be 1\n",
        "  # 64 - 64 corresponds to its width an height\n",
        "  \n",
        "  x = Conv2D(32, kernel_size=(3, 3), strides=(2, 2), padding=\"same\", name=\"conv_1\")(input_) #  you will understand it in video call filters kernels and padding\n",
        "  # since this is an functional api we treat every layer as a functional  input to the next layer \n",
        "  x = MaxPooling2D(pool_size=(2, 2), strides=(1, 1), name=\"maxpool_1\")(x)\n",
        "  x = Activation('relu')(x)\n",
        "  \n",
        "  x1 = Conv2D(32, kernel_size=(3, 3), strides=(2, 2), padding='same', name=\"conv_parallel_1\")(input_) # this is a parallel branch\n",
        "  x1 = MaxPooling2D(pool_size=(2, 2), strides=(1, 1), name=\"maxpool_parallel_1\")(x1) \n",
        "  x1 = Activation('relu', name=\"activation_parallel_1\")(x1)\n",
        "  \n",
        "  x = keras.layers.Concatenate(name=\"merge_layer_1\")([x, x1]) # this layer merges the branches\n",
        "  \n",
        "  \n",
        "  for i in range(10):\n",
        "    x = Conv2D(32 * i + 32, kernel_size=(3, 3), strides=(1, 1),padding='same',name=\"conv_{}\".format(i + 2))(x) # every layer name you mentioned must be unique\n",
        "    x = MaxPooling2D(pool_size=(2, 2), strides=(1, 1), name=\"maxpool_{}\".format(i+2))(x)\n",
        "    \n",
        "    if i % 2 == 0:\n",
        "      x = Activation('relu')(x) # applying activation on every even layers, if  you do not name the layers it will automatically create one for you\n",
        "    if i % 5 == 0:\n",
        "      x = Dropout(0.3, name=\"dropout_{}\".format(i+2+5))(x) # this layer forgets a certain amount of data inoder for the data to learn better concepts associated with it are regularization , ensemble methods\n",
        "  \n",
        "    \n",
        "  x = Flatten(name=\"flatt\")(x) # this layer flats all the dimensions and combines into 1 dimenion\n",
        "  prediction_layer = Dense(6, name=\"prediction\")(x)\n",
        "  prediction_layer = Activation('softmax', name=\"activation_final\")(prediction_layer)\n",
        "  \n",
        "  \n",
        "  model = Model(\n",
        "      inputs=[input_],\n",
        "      outputs=[prediction_layer]\n",
        "  )\n",
        "  # this is how you combine everything. \n",
        "  opt = Adam(lr=1e-3, decay=1e-3/128)\n",
        "  model.compile(loss='categorical_crossentropy', optimizer=opt, metrics=['accuracy'])\n",
        "  return model\n",
        "  "
      ],
      "execution_count": 0,
      "outputs": []
    },
    {
      "cell_type": "code",
      "metadata": {
        "id": "uwuasb9-98Jr",
        "colab_type": "code",
        "outputId": "494994b7-316f-4f38-c558-6b57666e3af0",
        "colab": {
          "base_uri": "https://localhost:8080/",
          "height": 1000
        }
      },
      "source": [
        "model = build_model()\n",
        "model.summary()"
      ],
      "execution_count": 0,
      "outputs": [
        {
          "output_type": "stream",
          "text": [
            "__________________________________________________________________________________________________\n",
            "Layer (type)                    Output Shape         Param #     Connected to                     \n",
            "==================================================================================================\n",
            "input_1 (InputLayer)            (None, 64, 64, 3)    0                                            \n",
            "__________________________________________________________________________________________________\n",
            "conv_1 (Conv2D)                 (None, 32, 32, 32)   896         input_1[0][0]                    \n",
            "__________________________________________________________________________________________________\n",
            "conv_parallel_1 (Conv2D)        (None, 32, 32, 32)   896         input_1[0][0]                    \n",
            "__________________________________________________________________________________________________\n",
            "maxpool_1 (MaxPooling2D)        (None, 31, 31, 32)   0           conv_1[0][0]                     \n",
            "__________________________________________________________________________________________________\n",
            "maxpool_parallel_1 (MaxPooling2 (None, 31, 31, 32)   0           conv_parallel_1[0][0]            \n",
            "__________________________________________________________________________________________________\n",
            "activation_13 (Activation)      (None, 31, 31, 32)   0           maxpool_1[0][0]                  \n",
            "__________________________________________________________________________________________________\n",
            "activation_parallel_1 (Activati (None, 31, 31, 32)   0           maxpool_parallel_1[0][0]         \n",
            "__________________________________________________________________________________________________\n",
            "merge_layer_1 (Concatenate)     (None, 31, 31, 64)   0           activation_13[0][0]              \n",
            "                                                                 activation_parallel_1[0][0]      \n",
            "__________________________________________________________________________________________________\n",
            "conv_2 (Conv2D)                 (None, 31, 31, 32)   18464       merge_layer_1[0][0]              \n",
            "__________________________________________________________________________________________________\n",
            "maxpool_2 (MaxPooling2D)        (None, 30, 30, 32)   0           conv_2[0][0]                     \n",
            "__________________________________________________________________________________________________\n",
            "activation_14 (Activation)      (None, 30, 30, 32)   0           maxpool_2[0][0]                  \n",
            "__________________________________________________________________________________________________\n",
            "dropout_7 (Dropout)             (None, 30, 30, 32)   0           activation_14[0][0]              \n",
            "__________________________________________________________________________________________________\n",
            "conv_3 (Conv2D)                 (None, 30, 30, 64)   18496       dropout_7[0][0]                  \n",
            "__________________________________________________________________________________________________\n",
            "maxpool_3 (MaxPooling2D)        (None, 29, 29, 64)   0           conv_3[0][0]                     \n",
            "__________________________________________________________________________________________________\n",
            "conv_4 (Conv2D)                 (None, 29, 29, 96)   55392       maxpool_3[0][0]                  \n",
            "__________________________________________________________________________________________________\n",
            "maxpool_4 (MaxPooling2D)        (None, 28, 28, 96)   0           conv_4[0][0]                     \n",
            "__________________________________________________________________________________________________\n",
            "activation_15 (Activation)      (None, 28, 28, 96)   0           maxpool_4[0][0]                  \n",
            "__________________________________________________________________________________________________\n",
            "conv_5 (Conv2D)                 (None, 28, 28, 128)  110720      activation_15[0][0]              \n",
            "__________________________________________________________________________________________________\n",
            "maxpool_5 (MaxPooling2D)        (None, 27, 27, 128)  0           conv_5[0][0]                     \n",
            "__________________________________________________________________________________________________\n",
            "conv_6 (Conv2D)                 (None, 27, 27, 160)  184480      maxpool_5[0][0]                  \n",
            "__________________________________________________________________________________________________\n",
            "maxpool_6 (MaxPooling2D)        (None, 26, 26, 160)  0           conv_6[0][0]                     \n",
            "__________________________________________________________________________________________________\n",
            "activation_16 (Activation)      (None, 26, 26, 160)  0           maxpool_6[0][0]                  \n",
            "__________________________________________________________________________________________________\n",
            "conv_7 (Conv2D)                 (None, 26, 26, 192)  276672      activation_16[0][0]              \n",
            "__________________________________________________________________________________________________\n",
            "maxpool_7 (MaxPooling2D)        (None, 25, 25, 192)  0           conv_7[0][0]                     \n",
            "__________________________________________________________________________________________________\n",
            "dropout_12 (Dropout)            (None, 25, 25, 192)  0           maxpool_7[0][0]                  \n",
            "__________________________________________________________________________________________________\n",
            "conv_8 (Conv2D)                 (None, 25, 25, 224)  387296      dropout_12[0][0]                 \n",
            "__________________________________________________________________________________________________\n",
            "maxpool_8 (MaxPooling2D)        (None, 24, 24, 224)  0           conv_8[0][0]                     \n",
            "__________________________________________________________________________________________________\n",
            "activation_17 (Activation)      (None, 24, 24, 224)  0           maxpool_8[0][0]                  \n",
            "__________________________________________________________________________________________________\n",
            "conv_9 (Conv2D)                 (None, 24, 24, 256)  516352      activation_17[0][0]              \n",
            "__________________________________________________________________________________________________\n",
            "maxpool_9 (MaxPooling2D)        (None, 23, 23, 256)  0           conv_9[0][0]                     \n",
            "__________________________________________________________________________________________________\n",
            "conv_10 (Conv2D)                (None, 23, 23, 288)  663840      maxpool_9[0][0]                  \n",
            "__________________________________________________________________________________________________\n",
            "maxpool_10 (MaxPooling2D)       (None, 22, 22, 288)  0           conv_10[0][0]                    \n",
            "__________________________________________________________________________________________________\n",
            "activation_18 (Activation)      (None, 22, 22, 288)  0           maxpool_10[0][0]                 \n",
            "__________________________________________________________________________________________________\n",
            "conv_11 (Conv2D)                (None, 22, 22, 320)  829760      activation_18[0][0]              \n",
            "__________________________________________________________________________________________________\n",
            "maxpool_11 (MaxPooling2D)       (None, 21, 21, 320)  0           conv_11[0][0]                    \n",
            "__________________________________________________________________________________________________\n",
            "flatt (Flatten)                 (None, 141120)       0           maxpool_11[0][0]                 \n",
            "__________________________________________________________________________________________________\n",
            "prediction (Dense)              (None, 6)            846726      flatt[0][0]                      \n",
            "__________________________________________________________________________________________________\n",
            "activation_final (Activation)   (None, 6)            0           prediction[0][0]                 \n",
            "==================================================================================================\n",
            "Total params: 3,909,990\n",
            "Trainable params: 3,909,990\n",
            "Non-trainable params: 0\n",
            "__________________________________________________________________________________________________\n"
          ],
          "name": "stdout"
        }
      ]
    },
    {
      "cell_type": "code",
      "metadata": {
        "id": "n1gGCjbK-ARe",
        "colab_type": "code",
        "colab": {}
      },
      "source": [
        "# i will explain in call what parameters are actually\n",
        "\n",
        "from keras.utils import plot_model\n",
        "plot_model(model, to_file='model.png')\n"
      ],
      "execution_count": 0,
      "outputs": []
    },
    {
      "cell_type": "markdown",
      "metadata": {
        "id": "rk16G2c5CBmd",
        "colab_type": "text"
      },
      "source": [
        "## training the model"
      ]
    },
    {
      "cell_type": "code",
      "metadata": {
        "id": "2DaUO0kSAOpT",
        "colab_type": "code",
        "outputId": "5f6f533c-723c-490d-c288-b626a7fa4645",
        "colab": {
          "base_uri": "https://localhost:8080/",
          "height": 697
        }
      },
      "source": [
        "h = model.fit_generator(\n",
        "    train_gen,\n",
        "    epochs=20,\n",
        "    steps_per_epoch=len(train_gen),\n",
        "    verbose=2\n",
        ")\n",
        "\n",
        "# epochs means the number of times you are making the model to see the entire data\n",
        "# steps means th number fot imes you are asking to update the parameters to the optimizer\n",
        "# verbose means while the training the decription to be shown, 0 - measns none , 1 - elaborate, 2 - concise\n",
        "\n",
        "\n"
      ],
      "execution_count": 49,
      "outputs": [
        {
          "output_type": "stream",
          "text": [
            "Epoch 1/20\n",
            " - 29s - loss: 1.7967 - acc: 0.1753\n",
            "Epoch 2/20\n",
            " - 29s - loss: 1.7965 - acc: 0.1736\n",
            "Epoch 3/20\n",
            " - 29s - loss: 1.7953 - acc: 0.1728\n",
            "Epoch 4/20\n",
            " - 29s - loss: 1.7990 - acc: 0.1749\n",
            "Epoch 5/20\n",
            " - 29s - loss: 1.7965 - acc: 0.1777\n",
            "Epoch 6/20\n",
            " - 29s - loss: 1.7950 - acc: 0.1715\n",
            "Epoch 7/20\n",
            " - 29s - loss: 1.7941 - acc: 0.1829\n",
            "Epoch 8/20\n",
            " - 29s - loss: 1.7937 - acc: 0.1767\n",
            "Epoch 9/20\n",
            " - 29s - loss: 1.7935 - acc: 0.1741\n",
            "Epoch 10/20\n",
            " - 29s - loss: 1.7929 - acc: 0.1713\n",
            "Epoch 11/20\n",
            " - 29s - loss: 1.7926 - acc: 0.1766\n",
            "Epoch 12/20\n",
            " - 29s - loss: 1.7950 - acc: 0.1780\n",
            "Epoch 13/20\n",
            " - 29s - loss: 1.7937 - acc: 0.1722\n",
            "Epoch 14/20\n",
            " - 29s - loss: 1.7924 - acc: 0.1744\n",
            "Epoch 15/20\n",
            " - 29s - loss: 1.7926 - acc: 0.1750\n",
            "Epoch 16/20\n",
            " - 29s - loss: 1.7928 - acc: 0.1750\n",
            "Epoch 17/20\n",
            " - 29s - loss: 1.7929 - acc: 0.1758\n",
            "Epoch 18/20\n",
            " - 29s - loss: 1.7917 - acc: 0.1743\n",
            "Epoch 19/20\n",
            " - 29s - loss: 1.7932 - acc: 0.1758\n",
            "Epoch 20/20\n",
            " - 29s - loss: 1.7931 - acc: 0.1711\n"
          ],
          "name": "stdout"
        }
      ]
    },
    {
      "cell_type": "code",
      "metadata": {
        "id": "dYOhOwl1DQts",
        "colab_type": "code",
        "colab": {}
      },
      "source": [
        ""
      ],
      "execution_count": 0,
      "outputs": []
    }
  ]
}